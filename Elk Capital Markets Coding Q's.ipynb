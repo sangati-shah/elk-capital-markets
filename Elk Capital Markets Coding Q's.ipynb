{
 "cells": [
  {
   "cell_type": "markdown",
   "id": "cc99886f",
   "metadata": {},
   "source": [
    "# Problem 1"
   ]
  },
  {
   "cell_type": "markdown",
   "id": "a5237cde",
   "metadata": {},
   "source": [
    "nasdaq.pcap is a packet capture (PCAP) of market data. It’s a series of UDP packets containing\n",
    "NASDAQ ITCH5 market data, transmitted over the MoldUDP64 protocol. The MoldUDP64 packets\n",
    "have sequence numbers. Python has libraries for working with PCAP files as well as packing and\n",
    "unpacking binary data. You can find information about these file formats online/on NASDAQ&#39;s\n",
    "website.\n",
    "\n",
    "Write a program that checks if the sequence numbers of the MoldUDP64 packets are\n",
    "ordered. Determine the first and last sequence numbers of the sample data, as well as any\n",
    "missing sequence numbers/gaps."
   ]
  },
  {
   "cell_type": "code",
   "execution_count": 1,
   "id": "1e1eeac4",
   "metadata": {},
   "outputs": [
    {
     "name": "stderr",
     "output_type": "stream",
     "text": [
      "WARNING: No IPv4 address found on anpi2 !\n",
      "WARNING: No IPv4 address found on anpi1 !\n",
      "WARNING: more No IPv4 address found on anpi0 !\n"
     ]
    }
   ],
   "source": [
    "import pandas as pd\n",
    "import sys\n",
    "import re\n",
    "from scapy.all import *"
   ]
  },
  {
   "cell_type": "code",
   "execution_count": 2,
   "id": "8a6cacec",
   "metadata": {},
   "outputs": [],
   "source": [
    "p = rdpcap(\"nasdaq.pcap\")"
   ]
  },
  {
   "cell_type": "code",
   "execution_count": 4,
   "id": "c2832cfb",
   "metadata": {},
   "outputs": [
    {
     "data": {
      "text/plain": [
       "<nasdaq.pcap: TCP:0 UDP:2047 ICMP:0 Other:0>"
      ]
     },
     "execution_count": 4,
     "metadata": {},
     "output_type": "execute_result"
    }
   ],
   "source": [
    "p"
   ]
  },
  {
   "cell_type": "code",
   "execution_count": 5,
   "id": "1accbb94",
   "metadata": {},
   "outputs": [
    {
     "data": {
      "text/plain": [
       "2047"
      ]
     },
     "execution_count": 5,
     "metadata": {},
     "output_type": "execute_result"
    }
   ],
   "source": [
    "len(p)"
   ]
  },
  {
   "cell_type": "code",
   "execution_count": 9,
   "id": "57446bda",
   "metadata": {},
   "outputs": [
    {
     "data": {
      "text/plain": [
       "<Ether  dst=01:00:5e:00:00:66 src=00:00:0c:9f:f2:0e type=VLAN |<Dot1Q  prio=0 id=0 vlan=3050 type=IPv4 |<IP  version=4 ihl=5 tos=0xc0 len=80 id=0 flags= frag=0 ttl=255 proto=udp chksum=0xd40d src=143.131.118.229 dst=224.0.0.102 |<UDP  sport=hsrp dport=hsrp len=60 chksum=0xf7ba |<HSRP  version=1 opcode=40 state=Listen hellotime=0 holdtime=6 priority=4 group=2 reserved=14 auth='\\\\xa4l*I\\\\xb4\\\\xfc' virtualIP=0.120.0.0 |<HSRPmd5  type=11 len=184 algo=0 padding=0 flags=0x2710 sourceip=143.131.118.228 keyid=0x0 authdigest='\\x00\\x00\\x00\\x00\\x00\\x00\\x00\\x00\\x03\\x08cisco' |<Raw  load='\\x00\\x00' |>>>>>>>"
      ]
     },
     "execution_count": 9,
     "metadata": {},
     "output_type": "execute_result"
    }
   ],
   "source": [
    "p[0]"
   ]
  },
  {
   "cell_type": "markdown",
   "id": "6fb3ec73",
   "metadata": {},
   "source": [
    "### Resources\n",
    "<ul>\n",
    "    <li><a href = \"https://github.com/boundary/wireshark/blob/master/epan/dissectors/packet-moldudp64.c\">wireshark dissector code</a></li>\n",
    "    <li><a href= \"https://www.nasdaqtrader.com/content/technicalsupport/specifications/dataproducts/moldudp64.pdf\">NASDAQ docs</a></li?\n",
    "</ul>\n",
    "\n"
   ]
  },
  {
   "cell_type": "markdown",
   "id": "f80834cc",
   "metadata": {},
   "source": [
    "# Problem 2"
   ]
  },
  {
   "cell_type": "markdown",
   "id": "2dc3f5fa",
   "metadata": {},
   "source": [
    "Let’s define a trading strategy by the tuple of parameters (X, Y, Z) where X is the starting price of a\n",
    "security, Y is the “adjustment” per unit, and Z is the “required edge”. At each quantum of time, the\n",
    "trading strategy maintains a two-sided quote at distance Z around X – P * Y, where P is its current\n",
    "position. Assume that price starts at X and in each period either ticks up or down by 1 unit. If when\n",
    "ticking, the price hits a strategy’s order, then the strategy is filled (position P is updated, and the two-\n",
    "sided quote moves accordingly).\n",
    "\n",
    "We can see that every time price reverts to X, the strategy will have P=0 and have made positive\n",
    "profit. Let’s say that at the end of the simulation, the security ends at price E. Then, the strategy\n",
    "must sell (or buy, if P &lt; 0) all of its position at this price.\n",
    "Assume no position limits (P is unconstrained). You can sell the security without owning it (You can\n",
    "have negative position) and make any other assumptions necessary to get an elegant answer.\n",
    "\n",
    "Example 1: (X = 0, Y = 1, Z= 1)\n",
    "\n",
    "One example of a path length where L = 4 would be selling every time, any combination is possible.\n",
    "For this example it is 4 Sells consecutively (S,S,S,S). It could just as likely be any combination,\n",
    "(B,S,B,B) for example.\n",
    "\n",
    "Step 1\n",
    "We pay = -1 Theoretical value = 0 We sell = 1\n",
    "We sell here at a price of 1\n",
    "\n",
    "Step 2\n",
    "We pay = 0 Theoretical value = 1 We sell = 2\n",
    "We sell here at a price of 2\n",
    "\n",
    "Step 3\n",
    "We pay = 1 Theoretical value = 2 We sell = 3\n",
    "We sell here at a price of 3\n",
    "\n",
    "Step 4\n",
    "We pay = 2 Theoretical value = 3 We sell = 4\n",
    "\n",
    "We sell here at a price of 4\n",
    "\n",
    "After this sequence we would have to buy 4 units (due to 4 sales, no buys), paying 4 (E) to get back\n",
    "to having no position.\n",
    "\n",
    "Determine the profitability of the (0, 1, 1) strategy as a function of its ending price E and its\n",
    "path length L (assuming it moves up or down every quanta of time, then L is the number of\n",
    "quanta considered)."
   ]
  },
  {
   "cell_type": "code",
   "execution_count": null,
   "id": "6b8a096b",
   "metadata": {},
   "outputs": [],
   "source": []
  }
 ],
 "metadata": {
  "kernelspec": {
   "display_name": "Python 3 (ipykernel)",
   "language": "python",
   "name": "python3"
  },
  "language_info": {
   "codemirror_mode": {
    "name": "ipython",
    "version": 3
   },
   "file_extension": ".py",
   "mimetype": "text/x-python",
   "name": "python",
   "nbconvert_exporter": "python",
   "pygments_lexer": "ipython3",
   "version": "3.9.7"
  }
 },
 "nbformat": 4,
 "nbformat_minor": 5
}
