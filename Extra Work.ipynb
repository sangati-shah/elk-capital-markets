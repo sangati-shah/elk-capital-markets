{
 "cells": [
  {
   "cell_type": "code",
   "execution_count": 2,
   "id": "55e82ba2",
   "metadata": {},
   "outputs": [
    {
     "name": "stderr",
     "output_type": "stream",
     "text": [
      "WARNING: No IPv4 address found on anpi2 !\n",
      "WARNING: No IPv4 address found on anpi1 !\n",
      "WARNING: more No IPv4 address found on anpi0 !\n"
     ]
    }
   ],
   "source": [
    "import pandas as pd\n",
    "import sys\n",
    "import re\n",
    "from scapy.all import *\n",
    "import struct"
   ]
  },
  {
   "cell_type": "code",
   "execution_count": 3,
   "id": "a0460caa",
   "metadata": {},
   "outputs": [],
   "source": [
    "p = rdpcap(\"nasdaq.pcap\")"
   ]
  },
  {
   "cell_type": "code",
   "execution_count": 4,
   "id": "4737c65e",
   "metadata": {},
   "outputs": [
    {
     "data": {
      "text/plain": [
       "<nasdaq.pcap: TCP:0 UDP:2047 ICMP:0 Other:0>"
      ]
     },
     "execution_count": 4,
     "metadata": {},
     "output_type": "execute_result"
    }
   ],
   "source": [
    "p"
   ]
  },
  {
   "cell_type": "code",
   "execution_count": 5,
   "id": "7b598b7d",
   "metadata": {},
   "outputs": [
    {
     "data": {
      "text/plain": [
       "2047"
      ]
     },
     "execution_count": 5,
     "metadata": {},
     "output_type": "execute_result"
    }
   ],
   "source": [
    "len(p)"
   ]
  },
  {
   "cell_type": "code",
   "execution_count": 6,
   "id": "e130b912",
   "metadata": {},
   "outputs": [
    {
     "name": "stdout",
     "output_type": "stream",
     "text": [
      "these are the missing numbers by index in dataset:\n",
      "0\n",
      "93\n",
      "160\n",
      "223\n",
      "357\n",
      "519\n",
      "573\n",
      "733\n",
      "885\n",
      "1051\n",
      "1340\n"
     ]
    }
   ],
   "source": [
    "seq = []\n",
    "seqClean = []\n",
    "missingData = []\n",
    "print(\"these are the missing numbers by index in dataset:\")\n",
    "\n",
    "for i in range(len(p)):\n",
    "    #using bytes 11-18 in the UDP payload because this is where the sequence numbers are, NASDAQ docs\n",
    "    tmp = p[i].load[11:18] \n",
    "    tmp = int.from_bytes(tmp, \"big\")\n",
    "    if tmp == 0:\n",
    "        print(i)\n",
    "        missingData.append(i)\n",
    "    else:\n",
    "        seqClean.append(tmp)\n",
    "    seq.append(tmp)"
   ]
  },
  {
   "cell_type": "code",
   "execution_count": 8,
   "id": "ca8feafd",
   "metadata": {},
   "outputs": [
    {
     "name": "stdout",
     "output_type": "stream",
     "text": [
      "0 484314230 0 484311999\n",
      "93 484312095 0 484312096\n",
      "160 484312164 0 484312165\n",
      "223 484312232 0 484312233\n",
      "357 484312377 0 484312378\n",
      "519 484312557 0 484312558\n",
      "573 484312614 0 484312615\n",
      "733 484312782 0 484312783\n",
      "885 484312959 0 484312960\n",
      "1051 484313147 0 484313148\n",
      "1340 484313455 0 484313456\n"
     ]
    }
   ],
   "source": [
    "for i in missingData:\n",
    "    print(i, end = \" \")\n",
    "    tmp1 = p[i-1].load[11:18] \n",
    "    tmp1 = int.from_bytes(tmp1, \"big\")\n",
    "    \n",
    "    tmp2 = p[i].load[11:18] \n",
    "    tmp2 = int.from_bytes(tmp2, \"big\")\n",
    "    \n",
    "    tmp3 = p[i+1].load[11:18] \n",
    "    tmp3 = int.from_bytes(tmp3, \"big\")\n",
    "    print(tmp1, tmp2, tmp3)"
   ]
  },
  {
   "cell_type": "code",
   "execution_count": 9,
   "id": "32d1ea47",
   "metadata": {},
   "outputs": [],
   "source": [
    "for i in range(len(p)):\n",
    "    #using bytes 11-18 in the UDP payload because this is where the sequence numbers are, NASDAQ docs\n",
    "    curr = int.from_bytes(p[i].load[11:18], \"big\")\n",
    "    \n",
    "    # making sure there are no end sessions codes in here\n",
    "    if curr == 65535:\n",
    "        print(i)"
   ]
  },
  {
   "cell_type": "code",
   "execution_count": 10,
   "id": "41abd535",
   "metadata": {},
   "outputs": [
    {
     "name": "stdout",
     "output_type": "stream",
     "text": [
      "these are the missing numbers by index in dataset:\n",
      "484312009 \n",
      "484312036 \n",
      "484312038 \n",
      "484312065 \n",
      "484312090 \n",
      "484312102 \n",
      "484312129 \n",
      "484312137 \n",
      "484312171 \n",
      "484312173 \n",
      "484312192 \n",
      "484312198 \n",
      "484312205 \n",
      "484312209 \n",
      "484312266 \n",
      "484312291 \n",
      "484312293 \n",
      "484312314 \n",
      "484312335 \n",
      "484312345 \n",
      "484312357 \n",
      "484312359 \n",
      "484312362 \n",
      "484312365 484312366 \n",
      "484312371 \n",
      "484312416 \n",
      "484312449 \n",
      "484312461 \n",
      "484312464 484312465 \n",
      "484312467 \n",
      "484312481 \n",
      "484312494 484312495 484312496 484312497 484312498 \n",
      "484312500 484312501 \n",
      "484312505 \n",
      "484312510 \n",
      "484312514 \n",
      "484312520 \n",
      "484312550 \n",
      "484312572 \n",
      "484312585 \n",
      "484312587 \n",
      "484312589 \n",
      "484312621 \n",
      "484312623 \n",
      "484312652 \n",
      "484312687 \n",
      "484312693 \n",
      "484312709 \n",
      "484312712 484312713 \n",
      "484312761 \n",
      "484312788 \n",
      "484312799 \n",
      "484312821 \n",
      "484312826 \n",
      "484312828 484312829 484312830 484312831 484312832 484312833 484312834 \n",
      "484312838 \n",
      "484312875 484312876 484312877 \n",
      "484312891 484312892 484312893 484312894 \n",
      "484312900 \n",
      "484312903 \n",
      "484312908 484312909 484312910 \n",
      "484312912 \n",
      "484312918 \n",
      "484312989 \n",
      "484313000 \n",
      "484313006 \n",
      "484313008 484313009 \n",
      "484313015 \n",
      "484313018 484313019 484313020 \n",
      "484313026 \n",
      "484313028 484313029 \n",
      "484313033 \n",
      "484313036 \n",
      "484313041 \n",
      "484313052 \n",
      "484313090 \n",
      "484313095 484313096 \n",
      "484313111 \n",
      "484313130 \n",
      "484313137 484313138 \n",
      "484313149 \n",
      "484313151 \n",
      "484313185 484313186 \n",
      "484313191 \n",
      "484313195 \n",
      "484313205 \n",
      "484313214 \n",
      "484313224 484313225 \n",
      "484313241 484313242 484313243 \n",
      "484313269 \n",
      "484313337 \n",
      "484313406 \n",
      "484313408 484313409 \n",
      "484313411 \n",
      "484313452 \n",
      "484313473 \n",
      "484313481 \n",
      "484313483 \n",
      "484313521 \n",
      "484313550 \n",
      "484313552 \n",
      "484313578 \n",
      "484313580 \n",
      "484313589 \n",
      "484313621 \n",
      "484313656 \n",
      "484313680 \n",
      "484313708 484313709 484313710 \n",
      "484313712 \n",
      "484313725 \n",
      "484313727 \n",
      "484313744 \n",
      "484313756 \n",
      "484313802 \n",
      "484313804 \n",
      "484313807 \n",
      "484313813 \n",
      "484313815 \n",
      "484313848 \n",
      "484313859 \n",
      "484313873 \n",
      "484313885 \n",
      "484313895 \n",
      "484313899 \n",
      "484313902 \n",
      "484313908 \n",
      "484313957 \n",
      "484313959 \n",
      "484313961 \n",
      "484313998 \n",
      "484314001 \n",
      "484314003 \n",
      "484314025 \n",
      "484314027 \n",
      "484314034 \n",
      "484314045 \n",
      "484314069 \n",
      "484314083 \n",
      "484314093 \n",
      "484314097 \n",
      "484314099 \n",
      "484314102 \n",
      "484314124 \n",
      "484314128 \n",
      "484314131 \n",
      "484314133 \n",
      "484314151 \n",
      "484314161 \n",
      "484314163 \n",
      "484314165 \n",
      "484314167 \n",
      "484314180 \n",
      "484314192 \n",
      "484314200 \n",
      "484314202 \n",
      "484314207 484314208 \n",
      "484314210 \n",
      "484314216 \n",
      "484314219 \n",
      "484314223 \n",
      "484314227 \n"
     ]
    }
   ],
   "source": [
    "# new code attempt that shows that there are no missing sequence numbers\n",
    "print(\"these are the missing numbers by index in dataset:\")\n",
    "missingData = []\n",
    "for i in range(len(p)):\n",
    "    #using bytes 11-18 in the UDP payload because this is where the sequence numbers are, NASDAQ docs\n",
    "    prev = int.from_bytes(p[i-1].load[11:18] , \"big\")\n",
    "    \n",
    "    curr = int.from_bytes(p[i].load[11:18], \"big\")\n",
    "\n",
    "    message_cnt = int.from_bytes(p[i-1].load[18:20], \"big\")\n",
    "    \n",
    "    if message_cnt == 0 or prev == 0 or curr == 0:\n",
    "        continue\n",
    "        print()\n",
    "    if prev + 1 != curr:\n",
    "        for i in range(1,message_cnt):\n",
    "            missingData.append(prev + i)\n",
    "            print(prev + i, end = \" \")\n",
    "        print()"
   ]
  },
  {
   "cell_type": "markdown",
   "id": "d157e929",
   "metadata": {},
   "source": [
    "# Problem 2"
   ]
  },
  {
   "cell_type": "code",
   "execution_count": 11,
   "id": "5c7fcf1f",
   "metadata": {},
   "outputs": [],
   "source": [
    "def prof(E, L):\n",
    "    s = int((L + E) / 2)\n",
    "    b = L - s\n",
    "    \n",
    "    print(f'there were {b} buy(s) and {s} sell(s)')\n",
    "    \n",
    "    profit = 0\n",
    "    newV = 0\n",
    "    #print(\"b\")\n",
    "    for i in range(0, b):\n",
    "        newV -= 1\n",
    "        profit -= newV   \n",
    "        #print(newV, profit)\n",
    "        \n",
    "    #print(\"s\")\n",
    "    for i in range(0, s):\n",
    "        newV += 1\n",
    "        profit += newV\n",
    "        #print(newV, profit)\n",
    "    \n",
    "    #print()\n",
    "    #print(newV, profit)\n",
    "    #print(E*(b-s))\n",
    "    profit += E*(b-s)\n",
    "    \n",
    "    print(f'the profit made is ${profit}')"
   ]
  },
  {
   "cell_type": "code",
   "execution_count": null,
   "id": "8bc5830f",
   "metadata": {},
   "outputs": [],
   "source": [
    "def prof(E, L):\n",
    "    #defining s as sells and b as buys\n",
    "    s = int((L + E) / 2)\n",
    "    b = L - s\n",
    "    \n",
    "    print(f'there were {b} buy(s) and {s} sell(s)')\n",
    "    \n",
    "    profit = 0\n",
    "    newV = 0\n",
    "    for i in range(0, b):\n",
    "        newV -= 1\n",
    "        profit -= newV   \n",
    "        \n",
    "    for i in range(0, s):\n",
    "        newV += 1\n",
    "        profit += newV\n",
    "    \n",
    "    profit += E*(b-s)\n",
    "    \n",
    "    print(f'the profit made is ${profit}')"
   ]
  }
 ],
 "metadata": {
  "kernelspec": {
   "display_name": "Python 3 (ipykernel)",
   "language": "python",
   "name": "python3"
  },
  "language_info": {
   "codemirror_mode": {
    "name": "ipython",
    "version": 3
   },
   "file_extension": ".py",
   "mimetype": "text/x-python",
   "name": "python",
   "nbconvert_exporter": "python",
   "pygments_lexer": "ipython3",
   "version": "3.9.7"
  }
 },
 "nbformat": 4,
 "nbformat_minor": 5
}
