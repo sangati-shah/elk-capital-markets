{
 "cells": [
  {
   "cell_type": "markdown",
   "id": "cc99886f",
   "metadata": {},
   "source": [
    "# Problem 1"
   ]
  },
  {
   "cell_type": "markdown",
   "id": "a5237cde",
   "metadata": {},
   "source": [
    "nasdaq.pcap is a packet capture (PCAP) of market data. It’s a series of UDP packets containing\n",
    "NASDAQ ITCH5 market data, transmitted over the MoldUDP64 protocol. The MoldUDP64 packets\n",
    "have sequence numbers. Python has libraries for working with PCAP files as well as packing and\n",
    "unpacking binary data. You can find information about these file formats online/on NASDAQ&#39;s\n",
    "website.\n",
    "\n",
    "Write a program that checks if the sequence numbers of the MoldUDP64 packets are\n",
    "ordered. Determine the first and last sequence numbers of the sample data, as well as any\n",
    "missing sequence numbers/gaps."
   ]
  },
  {
   "cell_type": "code",
   "execution_count": 47,
   "id": "1e1eeac4",
   "metadata": {},
   "outputs": [],
   "source": [
    "import pandas as pd\n",
    "import sys\n",
    "import re\n",
    "from scapy.all import *\n",
    "import struct"
   ]
  },
  {
   "cell_type": "code",
   "execution_count": 2,
   "id": "8a6cacec",
   "metadata": {},
   "outputs": [],
   "source": [
    "p = rdpcap(\"nasdaq.pcap\")"
   ]
  },
  {
   "cell_type": "code",
   "execution_count": 3,
   "id": "c2832cfb",
   "metadata": {},
   "outputs": [
    {
     "data": {
      "text/plain": [
       "<nasdaq.pcap: TCP:0 UDP:2047 ICMP:0 Other:0>"
      ]
     },
     "execution_count": 3,
     "metadata": {},
     "output_type": "execute_result"
    }
   ],
   "source": [
    "p"
   ]
  },
  {
   "cell_type": "code",
   "execution_count": 4,
   "id": "1accbb94",
   "metadata": {},
   "outputs": [
    {
     "data": {
      "text/plain": [
       "2047"
      ]
     },
     "execution_count": 4,
     "metadata": {},
     "output_type": "execute_result"
    }
   ],
   "source": [
    "len(p)"
   ]
  },
  {
   "cell_type": "code",
   "execution_count": 126,
   "id": "57446bda",
   "metadata": {},
   "outputs": [
    {
     "name": "stdout",
     "output_type": "stream",
     "text": [
      "0000  01 00 5E 36 0C 6F 00 1C 73 26 69 1D 08 00 45 00  ..^6.o..s&i...E.\n",
      "0010  00 56 F9 AC 40 00 15 11 27 F2 CE C8 7F 8A E9 36  .V..@...'......6\n",
      "0020  0C 6F CB 76 67 6D 00 42 98 B9 30 30 30 30 30 37  .o.vgm.B..000007\n",
      "0030  35 32 35 42 00 00 00 00 1C DE 03 BF 00 01 00 24  525B...........$\n",
      "0040  41 1F E4 00 00 37 24 E0 59 E1 88 00 00 00 00 1A  A....7$.Y.......\n",
      "0050  0A F5 B8 42 00 00 02 BC 58 49 56 20 20 20 20 20  ...B....XIV     \n",
      "0060  00 04 F3 30                                      ...0\n",
      "0000  30 30 30 30 30 37 35 32 35 42 00 00 00 00 1C DE  000007525B......\n",
      "0010  03 BF 00 01 00 24 41 1F E4 00 00 37 24 E0 59 E1  .....$A....7$.Y.\n",
      "0020  88 00 00 00 00 1A 0A F5 B8 42 00 00 02 BC 58 49  .........B....XI\n",
      "0030  56 20 20 20 20 20 00 04 F3 30                    V     ...0\n",
      "0000  00 00 00 1C DE 03 BF                             .......\n"
     ]
    }
   ],
   "source": [
    "pkt = p[1]\n",
    "hexdump(pkt)\n",
    "hexdump(pkt.load)\n",
    "hexdump(pkt.load[11:18])"
   ]
  },
  {
   "cell_type": "code",
   "execution_count": 133,
   "id": "c6e05e33",
   "metadata": {},
   "outputs": [
    {
     "data": {
      "text/plain": [
       "{'a', 'b', 'v'}"
      ]
     },
     "execution_count": 133,
     "metadata": {},
     "output_type": "execute_result"
    }
   ],
   "source": [
    "setE = {'a', 'a', 'b', 'v'}\n",
    "setE.add('b')\n",
    "setE"
   ]
  },
  {
   "cell_type": "code",
   "execution_count": 154,
   "id": "c85b45c0",
   "metadata": {},
   "outputs": [
    {
     "name": "stdout",
     "output_type": "stream",
     "text": [
      "these are the missing numbers by index in dataset:\n",
      "1\n",
      "94\n",
      "161\n",
      "224\n",
      "358\n",
      "520\n",
      "574\n",
      "734\n",
      "886\n",
      "1052\n",
      "1341\n"
     ]
    }
   ],
   "source": [
    "seq = []\n",
    "seqClean = []\n",
    "missingData = []\n",
    "print(\"these are the missing numbers by index in dataset:\")\n",
    "for i in range(len(p)):\n",
    "    tmp = p[i].load[11:18]\n",
    "    tmp = int.from_bytes(tmp, \"big\")\n",
    "    if tmp == 0:\n",
    "        print(i + 1)\n",
    "        missingData.append(i)\n",
    "    else:\n",
    "        seqClean.append(tmp)\n",
    "    seq.append(tmp)\n"
   ]
  },
  {
   "cell_type": "code",
   "execution_count": 148,
   "id": "eb470139",
   "metadata": {},
   "outputs": [
    {
     "name": "stdout",
     "output_type": "stream",
     "text": [
      "first sequence number: 484311999\n",
      "last sequence number: 484314230\n"
     ]
    }
   ],
   "source": [
    "print(f\"first sequence number: {min(seqClean)}\")\n",
    "print(f\"last sequence number: {max(seqClean)}\")"
   ]
  },
  {
   "cell_type": "code",
   "execution_count": 151,
   "id": "5b1a9de6",
   "metadata": {},
   "outputs": [
    {
     "name": "stdout",
     "output_type": "stream",
     "text": [
      "the sequence numbers are ordered\n"
     ]
    }
   ],
   "source": [
    "if sorted(seqClean) == seqClean:\n",
    "    print(\"the sequence numbers are ordered\")\n",
    "else:\n",
    "    print(\"the sequence numbers are not sorted\")"
   ]
  },
  {
   "cell_type": "markdown",
   "id": "6fb3ec73",
   "metadata": {},
   "source": [
    "### sites\n",
    "<ul>\n",
    "    <li><a href = \"https://github.com/boundary/wireshark/blob/master/epan/dissectors/packet-moldudp64.c\">wireshark dissector code</a></li>\n",
    "    <li><a href=\"https://www.nasdaqtrader.com/content/technicalsupport/specifications/dataproducts/moldudp64.pdf\">NASDAQ docs</a></li>\n",
    "    <li><a href = \"https://www.youtube.com/watch?v=oKUkbMz5q7Y\">Youtube tutorial</a></li>\n",
    "    <li><a href = \"https://github.com/Amay22/NASDAQ-ITCH-5.0-Parser\"> NASDAQ ITCH parser</a></li>\n",
    "    <li><a href = \"https://www.uv.mx/personal/angelperez/files/2018/10/sniffers_texto.pdf\">Packet sniffer ex </a></li>\n",
    "</ul>\n",
    "    \n",
    "### other functions\n",
    "<ul>\n",
    "    <li>ls(pkt)</li>\n",
    "    <li>pkt.show()</li>\n",
    "    <li>pkt.summary()</li>\n",
    "</ul>"
   ]
  },
  {
   "cell_type": "markdown",
   "id": "f80834cc",
   "metadata": {},
   "source": [
    "# Problem 2"
   ]
  },
  {
   "cell_type": "markdown",
   "id": "2dc3f5fa",
   "metadata": {},
   "source": [
    "Let’s define a trading strategy by the tuple of parameters (X, Y, Z) where X is the starting price of a\n",
    "security, Y is the “adjustment” per unit, and Z is the “required edge”. At each quantum of time, the\n",
    "trading strategy maintains a two-sided quote at distance Z around X – P * Y, where P is its current\n",
    "position. Assume that price starts at X and in each period either ticks up or down by 1 unit. If when\n",
    "ticking, the price hits a strategy’s order, then the strategy is filled (position P is updated, and the two-\n",
    "sided quote moves accordingly).\n",
    "\n",
    "We can see that every time price reverts to X, the strategy will have P=0 and have made positive\n",
    "profit. Let’s say that at the end of the simulation, the security ends at price E. Then, the strategy\n",
    "must sell (or buy, if P &lt; 0) all of its position at this price.\n",
    "Assume no position limits (P is unconstrained). You can sell the security without owning it (You can\n",
    "have negative position) and make any other assumptions necessary to get an elegant answer.\n",
    "\n",
    "Example 1: (X = 0, Y = 1, Z= 1)\n",
    "\n",
    "One example of a path length where L = 4 would be selling every time, any combination is possible.\n",
    "For this example it is 4 Sells consecutively (S,S,S,S). It could just as likely be any combination,\n",
    "(B,S,B,B) for example.\n",
    "\n",
    "Step 1\n",
    "We pay = -1 Theoretical value = 0 We sell = 1\n",
    "We sell here at a price of 1\n",
    "\n",
    "Step 2\n",
    "We pay = 0 Theoretical value = 1 We sell = 2\n",
    "We sell here at a price of 2\n",
    "\n",
    "Step 3\n",
    "We pay = 1 Theoretical value = 2 We sell = 3\n",
    "We sell here at a price of 3\n",
    "\n",
    "Step 4\n",
    "We pay = 2 Theoretical value = 3 We sell = 4\n",
    "\n",
    "We sell here at a price of 4\n",
    "\n",
    "After this sequence we would have to buy 4 units (due to 4 sales, no buys), paying 4 (E) to get back\n",
    "to having no position.\n",
    "\n",
    "Determine the profitability of the (0, 1, 1) strategy as a function of its ending price E and its\n",
    "path length L (assuming it moves up or down every quanta of time, then L is the number of\n",
    "quanta considered)."
   ]
  },
  {
   "cell_type": "code",
   "execution_count": null,
   "id": "6b8a096b",
   "metadata": {},
   "outputs": [],
   "source": []
  }
 ],
 "metadata": {
  "kernelspec": {
   "display_name": "Python 3 (ipykernel)",
   "language": "python",
   "name": "python3"
  },
  "language_info": {
   "codemirror_mode": {
    "name": "ipython",
    "version": 3
   },
   "file_extension": ".py",
   "mimetype": "text/x-python",
   "name": "python",
   "nbconvert_exporter": "python",
   "pygments_lexer": "ipython3",
   "version": "3.9.7"
  }
 },
 "nbformat": 4,
 "nbformat_minor": 5
}
