{
 "cells": [
  {
   "cell_type": "markdown",
   "id": "cc99886f",
   "metadata": {},
   "source": [
    "# Problem 1"
   ]
  },
  {
   "cell_type": "markdown",
   "id": "a5237cde",
   "metadata": {},
   "source": [
    "nasdaq.pcap is a packet capture (PCAP) of market data. It’s a series of UDP packets containing\n",
    "NASDAQ ITCH5 market data, transmitted over the MoldUDP64 protocol. The MoldUDP64 packets\n",
    "have sequence numbers. Python has libraries for working with PCAP files as well as packing and\n",
    "unpacking binary data. You can find information about these file formats online/on NASDAQ&#39;s\n",
    "website.\n",
    "\n",
    "Write a program that checks if the sequence numbers of the MoldUDP64 packets are\n",
    "ordered. Determine the first and last sequence numbers of the sample data, as well as any\n",
    "missing sequence numbers/gaps."
   ]
  },
  {
   "cell_type": "code",
   "execution_count": 47,
   "id": "1e1eeac4",
   "metadata": {},
   "outputs": [],
   "source": [
    "import pandas as pd\n",
    "import sys\n",
    "import re\n",
    "from scapy.all import *\n",
    "import struct"
   ]
  },
  {
   "cell_type": "code",
   "execution_count": 2,
   "id": "8a6cacec",
   "metadata": {},
   "outputs": [],
   "source": [
    "p = rdpcap(\"nasdaq.pcap\")"
   ]
  },
  {
   "cell_type": "code",
   "execution_count": null,
   "id": "8e5668d9",
   "metadata": {},
   "outputs": [],
   "source": [
    "# new code attempt that shows that there are no missing sequence numbers\n",
    "missingData = []\n",
    "for i in range(len(p)):\n",
    "    #using bytes 11-18 in the UDP payload because this is where the sequence numbers are, NASDAQ docs\n",
    "    prev = int.from_bytes(p[i-1].load[11:18] , \"big\")\n",
    "    \n",
    "    curr = int.from_bytes(p[i].load[11:18], \"big\")\n",
    "\n",
    "    message_cnt = int.from_bytes(p[i-1].load[18:20], \"big\")\n",
    "    \n",
    "    if message_cnt == 0 or prev == 0 or curr == 0:\n",
    "        continue\n",
    "        print()\n",
    "    if prev + message_cnt != curr:\n",
    "        print(prev, curr)"
   ]
  },
  {
   "cell_type": "markdown",
   "id": "3ae2f866",
   "metadata": {},
   "source": [
    "Because nothing is printed in the code above, I can assume that there are no missing UDP packets. I made sure that the sequence number for the first message in the packet plus the number of messages in the packet matched the next ssequence number in the dataset. "
   ]
  },
  {
   "cell_type": "code",
   "execution_count": 148,
   "id": "3be50ca5",
   "metadata": {},
   "outputs": [
    {
     "name": "stdout",
     "output_type": "stream",
     "text": [
      "first sequence number: 484311999\n",
      "last sequence number: 484314230\n"
     ]
    }
   ],
   "source": [
    "print(f\"first sequence number: {min(seqClean)}\")\n",
    "print(f\"last sequence number: {max(seqClean)}\")"
   ]
  },
  {
   "cell_type": "code",
   "execution_count": 151,
   "id": "27d67ee2",
   "metadata": {},
   "outputs": [
    {
     "name": "stdout",
     "output_type": "stream",
     "text": [
      "the sequence numbers are ordered\n"
     ]
    }
   ],
   "source": [
    "if sorted(seqClean) == seqClean:\n",
    "    print(\"the sequence numbers are ordered\")\n",
    "else:\n",
    "    print(\"the sequence numbers are not sorted\")"
   ]
  },
  {
   "cell_type": "markdown",
   "id": "6fb3ec73",
   "metadata": {},
   "source": [
    "### sites\n",
    "<ul>\n",
    "    <li><a href = \"https://github.com/boundary/wireshark/blob/master/epan/dissectors/packet-moldudp64.c\">wireshark dissector code</a></li>\n",
    "    <li><a href=\"https://www.nasdaqtrader.com/content/technicalsupport/specifications/dataproducts/moldudp64.pdf\">NASDAQ docs</a></li>\n",
    "    <li><a href = \"https://www.youtube.com/watch?v=oKUkbMz5q7Y\">Youtube tutorial</a></li>\n",
    "    <li><a href = \"https://github.com/Amay22/NASDAQ-ITCH-5.0-Parser\"> NASDAQ ITCH parser</a></li>\n",
    "    <li><a href = \"https://www.uv.mx/personal/angelperez/files/2018/10/sniffers_texto.pdf\">Packet sniffer ex </a></li>\n",
    "</ul>\n",
    "    \n",
    "### other functions\n",
    "<ul>\n",
    "    <li>ls(pkt)</li>\n",
    "    <li>pkt.show()</li>\n",
    "    <li>pkt.summary()</li>\n",
    "</ul>"
   ]
  },
  {
   "cell_type": "markdown",
   "id": "f80834cc",
   "metadata": {},
   "source": [
    "# Problem 2"
   ]
  },
  {
   "cell_type": "markdown",
   "id": "2dc3f5fa",
   "metadata": {},
   "source": [
    "Let’s define a trading strategy by the tuple of parameters (X, Y, Z) where X is the starting price of a\n",
    "security, Y is the “adjustment” per unit, and Z is the “required edge”. At each quantum of time, the\n",
    "trading strategy maintains a two-sided quote at distance Z around X – P * Y, where P is its current\n",
    "position. Assume that price starts at X and in each period either ticks up or down by 1 unit. If when\n",
    "ticking, the price hits a strategy’s order, then the strategy is filled (position P is updated, and the two-\n",
    "sided quote moves accordingly).\n",
    "\n",
    "We can see that every time price reverts to X, the strategy will have P=0 and have made positive\n",
    "profit. Let’s say that at the end of the simulation, the security ends at price E. Then, the strategy\n",
    "must sell (or buy, if P &lt; 0) all of its position at this price.\n",
    "Assume no position limits (P is unconstrained). You can sell the security without owning it (You can\n",
    "have negative position) and make any other assumptions necessary to get an elegant answer.\n",
    "\n",
    "Example 1: (X = 0, Y = 1, Z= 1)\n",
    "\n",
    "One example of a path length where L = 4 would be selling every time, any combination is possible.\n",
    "For this example it is 4 Sells consecutively (S,S,S,S). It could just as likely be any combination,\n",
    "(B,S,B,B) for example.\n",
    "\n",
    "Step 1\n",
    "We pay = -1 Theoretical value = 0 We sell = 1\n",
    "We sell here at a price of 1\n",
    "\n",
    "Step 2\n",
    "We pay = 0 Theoretical value = 1 We sell = 2\n",
    "We sell here at a price of 2\n",
    "\n",
    "Step 3\n",
    "We pay = 1 Theoretical value = 2 We sell = 3\n",
    "We sell here at a price of 3\n",
    "\n",
    "Step 4\n",
    "We pay = 2 Theoretical value = 3 We sell = 4\n",
    "We sell here at a price of 4\n",
    "\n",
    "After this sequence we would have to buy 4 units (due to 4 sales, no buys), paying 4 (E) to get back\n",
    "to having no position.\n",
    "\n",
    "Here's another example for problem 2: \n",
    "BSS sequence\n",
    "Price goes 0 -> -1 (we buy) -> 0 (we sell) -> 1 (we sell)\n",
    "\n",
    "Determine the profitability of the (0, 1, 1) strategy as a function of its ending price E and its\n",
    "path length L (assuming it moves up or down every quanta of time, then L is the number of\n",
    "quanta considered)."
   ]
  },
  {
   "cell_type": "markdown",
   "id": "6559567f",
   "metadata": {},
   "source": [
    "Things to note about this problem\n",
    "<ul>\n",
    "    <li>The profit is the same at the same length for the same value of abs(E) meaning that buys and sells are interchangable</li>\n",
    "    <li>Can figure out the number of buys and sells using a system of equations: b+s = L and |b-s| = |E|</li>\n",
    "    <li>if E = L then profit = (E^2 + E - 2EL) / 2</li>\n",
    "    <li>if you make a tree of the profit at each level and ending price, the tree is symmetrical</li>\n",
    "<ul>"
   ]
  },
  {
   "cell_type": "markdown",
   "id": "8a6822fa",
   "metadata": {},
   "source": [
    "$\\sum_{i=0}^{s} i$ - $\\sum_{i=0}^{b} s-i$\n",
    "\n",
    "$\\frac{s^2 + s + b^2 + b}{2} - sb$\n",
    "\n",
    "we know that $s = \\frac{L + E}{2}$ and that $b = \\frac{L - E}{2}$\n",
    "\n",
    "so if we substitute these in we get the equation below"
   ]
  },
  {
   "cell_type": "code",
   "execution_count": 105,
   "id": "946e39a8",
   "metadata": {},
   "outputs": [],
   "source": [
    "def prof(E, L):\n",
    "    return ( (L - E*E) / 2 )"
   ]
  },
  {
   "cell_type": "code",
   "execution_count": 106,
   "id": "57c151ed",
   "metadata": {},
   "outputs": [
    {
     "name": "stdout",
     "output_type": "stream",
     "text": [
      "The profit is -6.0.\n"
     ]
    }
   ],
   "source": [
    "profit = prof(-4, 4)\n",
    "print(f\"The profit is {profit}.\")"
   ]
  }
 ],
 "metadata": {
  "kernelspec": {
   "display_name": "Python 3 (ipykernel)",
   "language": "python",
   "name": "python3"
  },
  "language_info": {
   "codemirror_mode": {
    "name": "ipython",
    "version": 3
   },
   "file_extension": ".py",
   "mimetype": "text/x-python",
   "name": "python",
   "nbconvert_exporter": "python",
   "pygments_lexer": "ipython3",
   "version": "3.9.7"
  },
  "vscode": {
   "interpreter": {
    "hash": "31f2aee4e71d21fbe5cf8b01ff0e069b9275f58929596ceb00d14d90e3e16cd6"
   }
  }
 },
 "nbformat": 4,
 "nbformat_minor": 5
}
